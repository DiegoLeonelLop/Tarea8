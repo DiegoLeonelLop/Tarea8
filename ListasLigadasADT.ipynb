{
  "nbformat": 4,
  "nbformat_minor": 0,
  "metadata": {
    "colab": {
      "name": "ListasLigadasADT.ipynb",
      "provenance": []
    },
    "kernelspec": {
      "name": "python3",
      "display_name": "Python 3"
    },
    "language_info": {
      "name": "python"
    }
  },
  "cells": [
    {
      "cell_type": "markdown",
      "metadata": {
        "id": "KMZE5edB1ZSR"
      },
      "source": [
        "Ejercicios con la clase Nodo\n",
        ". Crear un nodo 10\n",
        "- imprimir el valor del nodo\n",
        ". Crear 2 nodos 10, 20\n",
        "- imprimir el valor del primero\n",
        "-imprimir el valor del segundo \n",
        "-transversal\n",
        ".Todo esto antes de ir a la escritura formal del ADT lista ligada\n"
      ]
    },
    {
      "cell_type": "code",
      "metadata": {
        "id": "XD1CggXa2CFR"
      },
      "source": [
        "class Nodo:\n",
        "    def __init__( self , value , siguiente = None ):\n",
        "        self.data = value\n",
        "        self.next = siguiente  "
      ],
      "execution_count": 9,
      "outputs": []
    },
    {
      "cell_type": "code",
      "metadata": {
        "colab": {
          "base_uri": "https://localhost:8080/"
        },
        "id": "KNueJoeR2Wxh",
        "outputId": "78f2e5b5-e459-4bb8-cd12-787f9f88f405"
      },
      "source": [
        "head = Nodo(10)\n",
        "print( head. data )"
      ],
      "execution_count": 10,
      "outputs": [
        {
          "output_type": "stream",
          "name": "stdout",
          "text": [
            "10\n"
          ]
        }
      ]
    },
    {
      "cell_type": "code",
      "metadata": {
        "colab": {
          "base_uri": "https://localhost:8080/"
        },
        "id": "WONOVRaP2psA",
        "outputId": "7713eb45-997f-4a9a-9615-9d4f182ac5ee"
      },
      "source": [
        "head = Nodo(10)\n",
        "head.next = Nodo(20)\n",
        "print(f\"Primero= { head.data }\")\n",
        "print(f\"Segundo={head.next.data }\")\n",
        "\n",
        "head = Nodo( 10, Nodo(20))\n",
        "print(f\"Primero= { head.data }\")\n",
        "print(f\"Segundo={head.next.data }\")\n",
        "\n",
        "\n",
        "curr_node = head\n",
        "while curr_node != None:\n",
        "    print(f\"{curr_node.data }) | --> \", end=\"\")\n",
        "    curr_node = curr_node.next \n",
        "\n"
      ],
      "execution_count": 11,
      "outputs": [
        {
          "output_type": "stream",
          "name": "stdout",
          "text": [
            "Primero= 10\n",
            "Segundo=20\n",
            "Primero= 10\n",
            "Segundo=20\n",
            "10) | --> 20) | --> "
          ]
        }
      ]
    },
    {
      "cell_type": "code",
      "metadata": {
        "colab": {
          "base_uri": "https://localhost:8080/"
        },
        "id": "bqxgeBuL6_Q_",
        "outputId": "00a1c624-825e-427e-f5b7-2616672db7ce"
      },
      "source": [
        "head = Nodo(10,Nodo(20,Nodo(30,Nodo(40))))\n",
        "#Nodo(valor , siguiente)\n",
        "#transversal\n",
        "curr_node=head\n",
        "while curr_node !=None:\n",
        "    print(f\"| {curr_node.data } --> \" , end=\"\")\n",
        "    curr_node=curr_node.next\n",
        "print(\"\")\n",
        "\n",
        "#imprimir el primero\n",
        "print(head.data)\n",
        "#imprimir el ultimo\n",
        "curr_node = head\n",
        "while curr_node.next !=None:\n",
        "    curr_node= curr_node.next\n",
        "print(curr_node.data)\n",
        "\n",
        "# insertar el nodo 25\n",
        "curr_node=head\n",
        "\n",
        "# crear el nodo 25 "
      ],
      "execution_count": 12,
      "outputs": [
        {
          "output_type": "stream",
          "name": "stdout",
          "text": [
            "| 10 --> | 20 --> | 30 --> | 40 --> \n",
            "10\n",
            "40\n"
          ]
        }
      ]
    },
    {
      "cell_type": "code",
      "metadata": {
        "id": "XdP19lDQeXwk"
      },
      "source": [
        "class LinkedList:\n",
        "    def __init__( self ):\n",
        "        self.head = None\n",
        "    \n",
        "    def is_empty( self ): # true o false \n",
        "        return self.head == None\n",
        "\n",
        "    def get_tail( self ):\n",
        "        if self.is_empty():\n",
        "            return None\n",
        "        else:\n",
        "            curr_node = self.head\n",
        "            while curr_node.next != None:\n",
        "                curr_node = curr_node.next\n",
        "            return curr_node\n",
        "    def append( self , value ):\n",
        "        if self.head == None:\n",
        "            self.head = Nodo( value )\n",
        "        else:\n",
        "            curr_node = self.head\n",
        "            while curr_node.next != None:\n",
        "                curr_node = curr_node.next\n",
        "            curr_node.next = Nodo(value)\n",
        "    def transversal( self ):\n",
        "        curr_node = self.head\n",
        "        while curr_node != None:\n",
        "            print(f\"| { curr_node.data }|  -->\" , end=\"\")\n",
        "            curr_node = curr_node.next\n",
        "        print(\" \")\n",
        "\n",
        "    def remove ( self , value):\n",
        "        if self.head == None:\n",
        "            print(\"Lista vacia, no se pudo remover nada\")\n",
        "        else:\n",
        "            curr_node = self.head\n",
        "            aux = None\n",
        "        while curr_node.data != value:\n",
        "            aux = curr_node\n",
        "            curr_node = curr_node.next\n",
        "        \n",
        "        if curr_node != None:\n",
        "            aux.next = curr_node.next\n",
        "            curr_node = None\n",
        "\n",
        "    def preppend ( self, value):\n",
        "        if self.head != None:\n",
        "            print(\"esta vacio\")\n",
        "        else:\n",
        "            aux = self.head\n",
        "            self.head = Nodo (value,aux)\n",
        "    \n",
        "    def pop( self ):\n",
        "        if self.head == None:\n",
        "            print(\"No se puede, no hay nada\")\n",
        "        else:\n",
        "             curr_node = self.head\n",
        "             aux = None\n",
        "        while curr_node.next != None:\n",
        "             aux = curr_node\n",
        "             curr_node = curr_node.next\n",
        "        if curr_node != None:\n",
        "             aux.next = curr_node.next\n",
        "             curr_node = None\n",
        "\n",
        "    def pop_first( self ):\n",
        "        if self.head == None:\n",
        "             print(\"No se puede, no hay nada\")\n",
        "        else:\n",
        "            curr_node = self.head\n",
        "        if curr_node != None:\n",
        "             self.head = curr_node.next\n",
        "\n",
        "    #def Add_before\n",
        "    #def Add_after\n",
        "    def add_after(self, add_after, new_value):\n",
        "        itr = self.head\n",
        "        new_node = Node(new_value)\n",
        "        while itr:\n",
        "            if itr.data == add_after:\n",
        "                temp = itr.next\n",
        "                itr.next = new_node\n",
        "                new_node.next = temp\n",
        "                return self.head\n",
        "            itr = itr.next\n",
        "\n",
        "    def add_before(self, add_before, new_value):\n",
        "        new_node = Node(new_value)\n",
        "        itr = self.head\n",
        "\n",
        "        if itr.data == add_before:\n",
        "            new_node.next = itr\n",
        "            self.head = new_node\n",
        "            return\n",
        "\n",
        "        while itr.next:\n",
        "            if itr.next.data == add_before:\n",
        "                temp = itr.next\n",
        "                itr.next = new_node\n",
        "                new_node.next = temp\n",
        "                return\n",
        "            itr = itr.next\n"
      ],
      "execution_count": 50,
      "outputs": []
    },
    {
      "cell_type": "code",
      "metadata": {
        "id": "IKJy3NK1fbp1",
        "colab": {
          "base_uri": "https://localhost:8080/"
        },
        "outputId": "0150e935-df0d-47f5-dfa3-7ac3f8133f21"
      },
      "source": [
        "lista = LinkedList()\n",
        "if lista.is_empty:\n",
        "    print(\"La lista esta vacia\")\n",
        "else:\n",
        "    print(\"La lista no esta vacia\")\n",
        "\n",
        "lista.append(20)\n",
        "lista.append(110)\n",
        "lista.append(600)\n",
        "lista.append(10)\n",
        "nodo = lista.get_tail()\n",
        "if nodo != None:\n",
        "  print(nodo.data)\n",
        "else: \n",
        "  print(\"La lista esta vacia\")\n",
        "\n",
        "lista.transversal()\n",
        "lista.transversal()\n",
        "lista.preppend(6)\n",
        "lista.remove(10)\n"
      ],
      "execution_count": 14,
      "outputs": [
        {
          "output_type": "stream",
          "name": "stdout",
          "text": [
            "La lista esta vacia\n",
            "10\n",
            "| 20|  -->| 110|  -->| 600|  -->| 10|  --> \n",
            "| 20|  -->| 110|  -->| 600|  -->| 10|  --> \n",
            "esta vacio\n"
          ]
        }
      ]
    },
    {
      "cell_type": "markdown",
      "metadata": {
        "id": "_ibd2ETf_Jdi"
      },
      "source": [
        "Pop()\n"
      ]
    },
    {
      "cell_type": "code",
      "metadata": {
        "colab": {
          "base_uri": "https://localhost:8080/"
        },
        "id": "hWyU8mrg_Ici",
        "outputId": "ae6ab69b-b705-4d0c-ddec-0f1fe406afef"
      },
      "source": [
        "Listap=(10,20,30,40,50)\n",
        "for x in range(len(Listap)-1,-1,-1):\n",
        "    if Listap[x]== '20':\n",
        "        print(Listap.pop(x))\n",
        "print(Listap)"
      ],
      "execution_count": 15,
      "outputs": [
        {
          "output_type": "stream",
          "name": "stdout",
          "text": [
            "(10, 20, 30, 40, 50)\n"
          ]
        }
      ]
    },
    {
      "cell_type": "markdown",
      "metadata": {
        "id": "G8EvFb9o_LIZ"
      },
      "source": [
        "pop_first()"
      ]
    },
    {
      "cell_type": "code",
      "metadata": {
        "id": "qjDoiIDZ_PX5"
      },
      "source": [
        ""
      ],
      "execution_count": null,
      "outputs": []
    },
    {
      "cell_type": "markdown",
      "metadata": {
        "id": "bNEAdLSZs3Pe"
      },
      "source": [
        "Lista doblemente ligada\n"
      ]
    },
    {
      "cell_type": "code",
      "metadata": {
        "id": "aBfmHESEs61L"
      },
      "source": [
        "class NodoDoble:\n",
        "    def __init__( self , value , siguiente= None , previo =None ):\n",
        "        self.data = value\n",
        "        self.next = siguiente\n",
        "        self.prev = previo"
      ],
      "execution_count": 16,
      "outputs": []
    },
    {
      "cell_type": "code",
      "metadata": {
        "colab": {
          "base_uri": "https://localhost:8080/"
        },
        "id": "6Nhz1DBLtuiU",
        "outputId": "cd1ecb2a-8e20-4482-cfd0-84c12ba29945"
      },
      "source": [
        "#ejercicio 1\n",
        "head = NodoDoble(10)\n",
        "tail = head\n",
        "print( head.data )\n",
        "print( tail.data )\n",
        "\n",
        "#ejercicio 2\n",
        "\n",
        "print(\"Ejercicio 2\")\n",
        "head = NodoDoble(10, NodoDoble(20))\n",
        "head.next.prev = head\n",
        "tail = head.next\n",
        "print(\"el primero:\" , head.data)\n",
        "print(\"el primero:\" , tail.prev.data )\n",
        "\n",
        "print(\"el segundo:\" , head.next.data)\n",
        "print(\"el segundo:\" , tail.data )\n",
        "\n",
        "\n",
        "#Ejercicio 3\n",
        "\n",
        "\n",
        "head = NodoDoble(10, NodoDoble(20,NodoDoble(30,NodoDoble(40))))\n",
        "tail = head.next.next.next\n",
        "head.next.prev= head\n",
        "head.next.next.prev = head.next\n",
        "tail.prev=head.next.next\n",
        "print(\"Ejercicio 3\")\n",
        "print(\"el primero:\" , head.data)\n",
        "print(\"el primero:\" , tail.prev.prev.prev.data )\n",
        "\n",
        "print(\"el ultimo:\" , tail.data)\n",
        "print(\"el ultimo:\" , head.next.next.next.data )\n",
        "\n",
        "#Transversal\n",
        "curr_node = head\n",
        "while curr_node != None:\n",
        "  print(f\"|{curr_node.data} |-->\", end=\"\")\n",
        "  curr_node = curr_node.next\n",
        "print(\" \")\n",
        "\n",
        "#reverse transversal\n",
        "curr_node = tail\n",
        "while curr_node != None:\n",
        "  print(f\"|{curr_node.data} |-->\", end=\"\")\n",
        "  curr_node = curr_node.prev\n",
        "print(\" \")\n",
        "\n",
        "print(\"Agregar el 50 al final\")\n",
        "tail.next = NodoDoble( 50, None, tail)\n",
        "curr_node = head\n",
        "while curr_node != None:\n",
        "  print(f\"|{curr_node.data} |-->\", end=\"\")\n",
        "  curr_node = curr_node.next\n",
        "print(\" \")\n"
      ],
      "execution_count": 30,
      "outputs": [
        {
          "output_type": "stream",
          "name": "stdout",
          "text": [
            "10\n",
            "10\n",
            "Ejercicio 2\n",
            "el primero: 10\n",
            "el primero: 10\n",
            "el segundo: 20\n",
            "el segundo: 20\n",
            "Ejercicio 3\n",
            "el primero: 10\n",
            "el primero: 10\n",
            "el ultimo: 40\n",
            "el ultimo: 40\n",
            "|10 |-->|20 |-->|30 |-->|40 |--> \n",
            "|40 |-->|30 |-->|20 |-->|10 |--> \n",
            "Agregar el 50 al final\n",
            "|10 |-->|20 |-->|30 |-->|40 |-->|50 |--> \n"
          ]
        }
      ]
    },
    {
      "cell_type": "code",
      "metadata": {
        "id": "U2KsggU69Jxi"
      },
      "source": [
        "\n",
        "class DoubleLinkedList:\n",
        "    def __init__( self  ):\n",
        "        self.head = None\n",
        "        self.tail = None\n",
        "        self.size = 0\n",
        "\n",
        "    def get_size( self ):\n",
        "        return self.size\n",
        "\n",
        "    def is_empty( self ): # true si la lista está vacía\n",
        "        return self.size == 0\n",
        "\n",
        "    def append( self , value ):\n",
        "        if self.is_empty():\n",
        "            self.head = NodoDoble( value)\n",
        "            self.tail = self.head\n",
        "        else:\n",
        "            self.tail.next = NodoDoble(value , None , self.tail )\n",
        "            self.tail = self.tail.next\n",
        "        self.size += 1\n",
        "\n",
        "    def transversal( self ):\n",
        "        curr_node = self.head\n",
        "        while curr_node != None :\n",
        "            print(f\"| {curr_node.data} | --> \" , end=\"\")\n",
        "            curr_node = curr_node.next\n",
        "        print(\"\")\n",
        "#remove_from\n",
        "    def remove_from_head( self , value  ):\n",
        "        curr_node = self.head\n",
        "        while curr_node.data != value:\n",
        "            curr_node = curr_node.next\n",
        "\n",
        "        if curr_node.data == value:\n",
        "            print(\"Encontrado\",curr_node.data)\n",
        "            curr_node.prev.next = curr_node.next\n",
        "            curr_node.next.prev = curr_node.prev\n",
        "            print(\"\", curr_node.prev.data)\n",
        "        self.size -= 1    \n",
        "\n",
        "    def remove_from_tail( self , value):\n",
        "        curr_node = self.tail\n",
        "        while curr_node.data != value:\n",
        "            curr_node = curr_node.next\n",
        "\n",
        "        if curr_node.data == value:\n",
        "            curr_node.prev.next = curr_node.next\n",
        "            curr_node.next.prev = curr_node.prev\n",
        "            print(\"\", curr_node.prev.data)\n",
        "        self.size -= 1 \n",
        "\n",
        "#find_from\n",
        "    def find_from_tail(self, value):\n",
        "        curr_node = self.__tail\n",
        "        contador = self.get_size()\n",
        "\n",
        "        while (curr_node.data != value) and (curr_node.prev != None):\n",
        "            curr_node = curr_node.prev\n",
        "            contador-=1\n",
        "        if curr_node.data == value:\n",
        "            contador = contador\n",
        "        else:\n",
        "            print(\"No hay\")\n",
        "            contador = None\n",
        "\n",
        "        return contador\n",
        "\n",
        "    def find_from_head(self, value):\n",
        "        curr_node = self.__head\n",
        "        contador = 0\n",
        "        if self.is_empty():\n",
        "            print(\"No hay\")\n",
        "        else :\n",
        "            while curr_node.data != value:\n",
        "                curr_node = curr_node.next\n",
        "                contador+=1\n",
        "            if curr_node.data == value:\n",
        "                return contador    \n",
        "\n",
        "    "
      ],
      "execution_count": 45,
      "outputs": []
    },
    {
      "cell_type": "code",
      "metadata": {
        "id": "64-K6Imgx3ep"
      },
      "source": [
        ""
      ],
      "execution_count": null,
      "outputs": []
    },
    {
      "cell_type": "code",
      "metadata": {
        "colab": {
          "base_uri": "https://localhost:8080/"
        },
        "id": "C8mUg5BPPoJK",
        "outputId": "db6df7a4-d091-4ec2-9ea1-d171dd59603e"
      },
      "source": [
        "ldl= DoubleLinkedList()\n",
        "ldl.append(10)\n",
        "ldl.append(20)\n",
        "ldl.append(30)\n",
        "ldl.append(40)\n",
        "\n",
        "ldl.transversal()\n",
        "print(f\"Esta vacia?{ ldl.is_empty()}\")\n",
        "ldl.remove_from_head(30)\n",
        "ldl.transversal()"
      ],
      "execution_count": 20,
      "outputs": [
        {
          "output_type": "stream",
          "name": "stdout",
          "text": [
            "| 10 | --> | 20 | --> | 30 | --> | 40 | --> \n",
            "Esta vacia?False\n",
            "Encontrado 30\n",
            " 20\n",
            "| 10 | --> | 20 | --> | 40 | --> \n"
          ]
        }
      ]
    }
  ]
}